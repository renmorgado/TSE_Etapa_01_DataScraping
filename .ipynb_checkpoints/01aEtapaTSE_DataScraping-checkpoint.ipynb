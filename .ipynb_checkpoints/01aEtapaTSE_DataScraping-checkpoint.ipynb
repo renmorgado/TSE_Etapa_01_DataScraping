{
 "cells": [
  {
   "cell_type": "markdown",
   "id": "ec9db410",
   "metadata": {
    "slideshow": {
     "slide_type": "slide"
    }
   },
   "source": [
    "# 1a Etapa\n",
    "## Data Scraping dos arquivos eleitorais no site do TSE\n",
    "<span style=\"color: gray;font-size:15px\">\n",
    "<p>\n",
    "<ul>\n",
    "<li> Seguintes processos no script:\n",
    "<ul>\n",
    "    <li> loop para downloads dos arquivos contidos nas variáveis ListaAno e ListaAnoUF </li>\n",
    "    <li> averiguação dos arquivos zip \"válidos\" (com conteúdos) e dos \"não válidos\" (sem conteúdo) </li>\n",
    "    <li> transferência de arquivos que não serão tratados para outro pasta </li>\n",
    "</ul></ul></span>"
   ]
  },
  {
   "cell_type": "markdown",
   "id": "2210a6cf",
   "metadata": {
    "slideshow": {
     "slide_type": "slide"
    }
   },
   "source": [
    "### Importação dos Pacotes\n",
    "<span style=\"color: gray;font-size:14px\">\n",
    "<p>\n",
    "<ul>\n",
    "<li> Processo:\n",
    "<ul>\n",
    "    <li> primeiro, verifica a versão da linguagem Python utilizada </li>\n",
    "    <li> em seguida importa os pacotes </li>\n",
    "    <li> acessando principal diretório dos arquivos </li>\n",
    "</ul></ul></span>"
   ]
  },
  {
   "cell_type": "markdown",
   "id": "572b613e",
   "metadata": {},
   "source": [
    "#### Instalação de Pacotes"
   ]
  },
  {
   "cell_type": "code",
   "execution_count": null,
   "id": "223027ff",
   "metadata": {},
   "outputs": [],
   "source": [
    "#!pip install requests\n",
    "#! pip install zipfile\n",
    "#!pip install ctypes\n",
    "#!pip install os\n",
    "#!pip install shutil\n",
    "#!pip install glob"
   ]
  },
  {
   "cell_type": "markdown",
   "id": "291464dd",
   "metadata": {},
   "source": [
    "#### Versão da Linguagem Python"
   ]
  },
  {
   "cell_type": "code",
   "execution_count": null,
   "id": "2899e083",
   "metadata": {},
   "outputs": [],
   "source": [
    "from platform import python_version\n",
    "print('Versão da Linguagem Python:', python_version())"
   ]
  },
  {
   "cell_type": "markdown",
   "id": "55ccaa6d",
   "metadata": {},
   "source": [
    "#### Importação dos Pacotes"
   ]
  },
  {
   "cell_type": "code",
   "execution_count": null,
   "id": "35652deb",
   "metadata": {},
   "outputs": [],
   "source": [
    "import requests # solicitação de baixar arquivos\n",
    "import zipfile # utilização de arquivos do tipo '.zip'\n",
    "import ctypes # permite chamar funções DDLs\n",
    "import os # utilizar sistema operacional\n",
    "import shutil # movimentação de arquivos\n",
    "import glob # trabalhar com diretórios"
   ]
  },
  {
   "cell_type": "markdown",
   "id": "6f6e3380",
   "metadata": {},
   "source": [
    "#### Acesso ao diretório raiz da base de arquivos originais"
   ]
  },
  {
   "cell_type": "code",
   "execution_count": null,
   "id": "790c4410",
   "metadata": {},
   "outputs": [],
   "source": [
    "# Acessando o diretório principal\n",
    "os.chdir('D:\\\\08_BaseDeDados\\\\01_ORIGINAL\\\\TSE')\n",
    "\n",
    "# Diretório\n",
    "#os.getcwd()"
   ]
  },
  {
   "cell_type": "markdown",
   "id": "6022bdfe",
   "metadata": {},
   "source": [
    "### Variável mutável\n",
    "<span style=\"color: gray;font-size:14px\">\n",
    "<p>\n",
    "<ul>\n",
    "<li> Variável Mutável (ano_eleicao) - altera de acordo com a informação incluída na variável </li>\n",
    "</ul></span>"
   ]
  },
  {
   "cell_type": "markdown",
   "id": "8a196b6c",
   "metadata": {},
   "source": [
    "#### \"ano_eleicao\""
   ]
  },
  {
   "cell_type": "code",
   "execution_count": null,
   "id": "4fc87ea1",
   "metadata": {},
   "outputs": [],
   "source": [
    "# Variável inserida para indicação do Ano dos arquivos para download\n",
    "ano_eleicao = '1994'"
   ]
  },
  {
   "cell_type": "markdown",
   "id": "924ae889",
   "metadata": {},
   "source": [
    "### Variáveis fixas\n",
    "<span style=\"color: gray;font-size:14px\">\n",
    "<p>\n",
    "<ul>\n",
    "<li> Variáveis que não alteram sua estrutura </li>\n",
    "</ul></span>"
   ]
  },
  {
   "cell_type": "markdown",
   "id": "96541a83",
   "metadata": {},
   "source": [
    "#### \"pasta_tse\""
   ]
  },
  {
   "cell_type": "code",
   "execution_count": null,
   "id": "6e76471f",
   "metadata": {},
   "outputs": [],
   "source": [
    "# Variável da pasta com o valor inserido na variável \"ano_eleicao\"\n",
    "pasta_tse = '\\\\TSE_' + ano_eleicao"
   ]
  },
  {
   "cell_type": "markdown",
   "id": "96c8b0b8",
   "metadata": {},
   "source": [
    "#### \"copiar_arquivos\""
   ]
  },
  {
   "cell_type": "code",
   "execution_count": null,
   "id": "e04330b2",
   "metadata": {},
   "outputs": [],
   "source": [
    "# Variável do Diretório da pasta TSE + \"ano_eleicao\"\n",
    "copia_arquivos = r'D:\\08_BaseDeDados\\01_ORIGINAL\\TSE' + pasta_tse"
   ]
  },
  {
   "cell_type": "markdown",
   "id": "655aac8b",
   "metadata": {},
   "source": [
    "#### Criação da pasta (ano_eleicao) - se necessário!"
   ]
  },
  {
   "cell_type": "code",
   "execution_count": null,
   "id": "80fc38ea",
   "metadata": {},
   "outputs": [],
   "source": [
    "# Criação da pasta do respectivo ano eleitoral\n",
    "os.mkdir(copia_arquivos)"
   ]
  },
  {
   "cell_type": "markdown",
   "id": "8e08a709",
   "metadata": {},
   "source": [
    "#### Variáveis utilizadas para o download dos arquivos no site do TSE"
   ]
  },
  {
   "cell_type": "code",
   "execution_count": null,
   "id": "d5d6068f",
   "metadata": {},
   "outputs": [],
   "source": [
    "# Variável \"z\" para a extensão \".zip\"\n",
    "z = '.zip'\n",
    "\n",
    "# Variável \"site\" do caminho do site do TSE\n",
    "site = 'https://cdn.tse.jus.br/estatistica/sead/odsele/'\n",
    "\n",
    "# Variável \"headers\" para solicitação da autorização do download dos arquivos\n",
    "headers = {'User-Agent':\n",
    "           'Mozilla/5.0 (Windows NT 6.1; WOW64) AppleWebKit/537.36 (KHTML, like Gecko) Chrome/56.0.2924.76 Safari/537.36'}\n",
    "\n",
    "# Variável \"uf\" para cada umas siglas das Unidades Federativas\n",
    "uf = ('AC','AL','AM','AP','BA','BR','CE','DF','ES','GO','MA','MG',\n",
    "      'MS','MT','PA','PB','PE','PI','PR','RJ','RN','RO','RR','RS',\n",
    "      'SC','SE','SP','TO','VT','ZZ')\n",
    "\n",
    "# Variável \"titulo\" - arquivos para tratamento\n",
    "titulo = ['consulta_cand'\n",
    "          ,'consulta_coligacao'\n",
    "          ,'consulta_vagas'\n",
    "          #,'detalhe_votacao_munzona'\n",
    "          ,'detalhe_votacao_secao'\n",
    "          ,'perfil_eleitorado'\n",
    "          ,'votacao_candidato_munzona'\n",
    "          ,'votacao_partido_munzona'\n",
    "          #,'votacao_secao'\n",
    "         ]"
   ]
  },
  {
   "cell_type": "markdown",
   "id": "6df5a37a",
   "metadata": {},
   "source": [
    "### Relação dos arquivos para download\n",
    "<span style=\"color: gray;font-size:14px\">\n",
    "<p>\n",
    "<ul>\n",
    "<li> Processo para download dos arquivos:\n",
    "<ul>\n",
    "    <li> lista os arquivos disponibilizados pelo TSE para download </li>\n",
    "    <li> lista de arquivos que não serão tratadas nesta etapa do script - copiadas para outro diretório </li>\n",
    "</ul></ul></span>"
   ]
  },
  {
   "cell_type": "markdown",
   "id": "807fb58e",
   "metadata": {},
   "source": [
    "#### Relação das nomenclaturas dos arquivos para download"
   ]
  },
  {
   "cell_type": "code",
   "execution_count": null,
   "id": "9ba4e08c",
   "metadata": {},
   "outputs": [],
   "source": [
    "# Variável \"listaAno\" é correspondente para arquivos que são seguidos pelo \"ano_eleitoral\" para download\n",
    "listaAno = (#tipos: Candidatos e Vagas\n",
    "             \"consulta_cand/consulta_cand_\"\n",
    "             ,\"consulta_coligacao/consulta_coligacao_\"\n",
    "             ,\"consulta_legendas/consulta_legendas_\"\n",
    "             ,\"consulta_vagas/consulta_vagas_\"\n",
    "            #tipos: Comparecimento e Abstenção\n",
    "             ,\"perfil_comparecimento_abstencao/perfil_comparecimento_abstencao_\"\n",
    "             ,\"perfil_comparecimento_abstencao_eleitor_deficiente/perfil_comparecimento_abstencao_eleitor_deficiente_\"\n",
    "             ,\"perfil_comparecimento_abstencao_eleitor_tte/perfil_comparecimento_abstencao_eleitor_tte_\"\n",
    "            #tipos: Eleitorado\n",
    "             ,\"perfil_eleitor_tte/transferencia_temporaria_\"\n",
    "             ,\"eleitorado_locais_votacao/eleitorado_local_votacao_\"\n",
    "             ,\"perfil_eleitorado/perfil_eleitorado_\"\n",
    "             ,\"perfil_eleitor_deficiente/perfil_eleitor_deficiencia_\"\n",
    "            #tipos: Resultados\n",
    "             ,\"votacao_candidato_munzona/votacao_candidato_munzona_\"\n",
    "             ,\"votacao_partido_munzona/votacao_partido_munzona_\"\n",
    "             ,\"detalhe_votacao_munzona/detalhe_votacao_munzona_\"\n",
    "             ,\"detalhe_votacao_secao/detalhe_votacao_secao_\"\n",
    "             ,\"detalhe_votacao_uf/detalhe_votacao_uf_\"\n",
    "             ,\"votacao_candidato_uf/votacao_candidato_uf_\"\n",
    "             ,\"votacao_partido_uf/votacao_partido_uf_\"\n",
    ")\n",
    "\n",
    "# Variável \"listaAnoUF\" é correspondente para arquivos que são seguidos por cada Unidade Federativa para download\n",
    "listaAnoUF = (#tipo: Eleitorado\n",
    "              \"perfil_eleitor_secao/perfil_eleitor_secao_\"\n",
    "              #tipo: Resutados\n",
    "             ,\"votacao_secao/votacao_secao_\"\n",
    ")"
   ]
  },
  {
   "cell_type": "markdown",
   "id": "f5bcfbcf",
   "metadata": {},
   "source": [
    "#### Relação de arquivos sem tratamento"
   ]
  },
  {
   "cell_type": "code",
   "execution_count": null,
   "id": "2ba2a51c",
   "metadata": {},
   "outputs": [],
   "source": [
    "prefixos = ['detalhe_votacao_munzona','eleitorado_local_votacao_','perfil_comparecimento_abstencao_',\n",
    "            'perfil_comparecimento_abstencao_eleitor_deficiente_','perfil_comparecimento_abstencao_eleitor_tte_',\n",
    "            'perfil_eleitor_deficiencia_','perfil_eleitor_secao_','transferencia_temporaria_','votacao_secao_']"
   ]
  },
  {
   "cell_type": "markdown",
   "id": "f928824e",
   "metadata": {},
   "source": [
    "### Funções\n",
    "<span style=\"color: gray;font-size:14px\">\n",
    "<p>\n",
    "<ul>\n",
    "<li> Totas as funções utilizadas no script:\n",
    "</ul></span>"
   ]
  },
  {
   "cell_type": "markdown",
   "id": "4189920c",
   "metadata": {},
   "source": [
    "#### Função para download de arquivos\n",
    "<span style=\"color: gray;font-size:14px\">\n",
    "<p>\n",
    "<ul>\n",
    "<li> Função utilizada para acessar site do TSE e baixar a relação dos arquivos contidos nas variáveis \"listaAno\" / \"listaAnoUF\" </li>\n",
    "</ul></span>"
   ]
  },
  {
   "cell_type": "code",
   "execution_count": null,
   "id": "a2adf9b7",
   "metadata": {},
   "outputs": [],
   "source": [
    "def download_arq(x):\n",
    "    req = requests.get(x, headers=headers)\n",
    "    arquivo = req.url[x.rfind('/')+1:]\n",
    "    with open(arquivo, 'wb') as file:\n",
    "        file.write(req.content)"
   ]
  },
  {
   "cell_type": "markdown",
   "id": "f7fdbd0e",
   "metadata": {},
   "source": [
    "### Início dos downloads\n",
    "<span style=\"color: gray;font-size:14px\">\n",
    "<p>\n",
    "<ul>\n",
    "<li> Loop para donwloads dos arquivos por Ano Eleitoral - variável mutável (\"ano_eleicao\")\n",
    "<ul>\n",
    "    <li> o download dos arquivos estão listados na variável ListaAno e ListaUF </li>\n",
    "</ul></ul></span>"
   ]
  },
  {
   "cell_type": "markdown",
   "id": "b611c2d7",
   "metadata": {},
   "source": [
    "#### Acesso ao diretório do ano do arquivo"
   ]
  },
  {
   "cell_type": "code",
   "execution_count": null,
   "id": "9debedc0",
   "metadata": {},
   "outputs": [],
   "source": [
    "# Acessando o diretório de acordo com o \"ano_eleitoral\" para download\n",
    "os.chdir(copia_arquivos)\n",
    "\n",
    "# Diretório\n",
    "#os.getcwd()"
   ]
  },
  {
   "cell_type": "markdown",
   "id": "406baf84",
   "metadata": {},
   "source": [
    "#### Loop para download dos arquivos ListaAno"
   ]
  },
  {
   "cell_type": "code",
   "execution_count": null,
   "id": "19753e84",
   "metadata": {},
   "outputs": [],
   "source": [
    "for e in listaAno:\n",
    "    x = site + e + ano_eleicao + z\n",
    "    download_arq(x)"
   ]
  },
  {
   "cell_type": "markdown",
   "id": "692a161c",
   "metadata": {},
   "source": [
    "#### Loop para download dos arquivos ListaAnoUF"
   ]
  },
  {
   "cell_type": "code",
   "execution_count": null,
   "id": "29aa404b",
   "metadata": {},
   "outputs": [],
   "source": [
    "for o in listaAnoUF:\n",
    "    for u in uf:\n",
    "        x = site + o + ano_eleicao + \"_\" + u + z \n",
    "        download_arq(x)"
   ]
  },
  {
   "cell_type": "markdown",
   "id": "661a4513",
   "metadata": {},
   "source": [
    "### Verificação dos arquivos Zip que não possuem conteúdos internos\n",
    "<span style=\"color: gray;font-size:14px\">\n",
    "<p>\n",
    "<ul>\n",
    "<li> Necessidade desta verificação porque o download é efetuado para todos os arquivos, porém nem todos possuem conteúdos internos\n",
    "<ul>\n",
    "    <li> uso do ChatGPT no trecho do código abaixo </li>\n",
    "</ul></ul></span>"
   ]
  },
  {
   "cell_type": "markdown",
   "id": "1d74d6ae",
   "metadata": {},
   "source": [
    "#### Script para análise dos arquivos no formato Zip que não possuem conteúdos"
   ]
  },
  {
   "cell_type": "code",
   "execution_count": null,
   "id": "a835c694",
   "metadata": {},
   "outputs": [],
   "source": [
    "# Define a função para deletar um arquivo\n",
    "def delete_file(file_path):\n",
    "    # Converte o caminho do arquivo para a representação de string do Windows\n",
    "    file_path = file_path.replace('/', '\\\\')\n",
    "\n",
    "    # Carrega a biblioteca kernel32.dll usando o ctypes\n",
    "    kernel32 = ctypes.WinDLL('kernel32', use_last_error=True)\n",
    "\n",
    "    # Tenta deletar o arquivo\n",
    "    success = kernel32.DeleteFileW(file_path)\n",
    "\n",
    "    # Verifica o resultado\n",
    "    if success:\n",
    "        print(f\"Arquivo deletado: {file_path}\")\n",
    "    else:\n",
    "        error_code = ctypes.get_last_error()\n",
    "        print(f\"Falha ao deletar o arquivo: {file_path}\")\n",
    "        print(f\"Código de erro: {error_code}\")\n",
    "\n",
    "# Diretório onde os arquivos zip estão localizados\n",
    "diretorio = os.getcwd()\n",
    "\n",
    "# Cria a pasta \"deletar\" se ainda não existir\n",
    "pasta_deletear = os.path.join(diretorio, 'deletar')\n",
    "os.makedirs(pasta_deletear, exist_ok=True)\n",
    "\n",
    "# Percorre todos os arquivos no diretório\n",
    "for arquivo_zip in os.listdir(diretorio):\n",
    "    if arquivo_zip.endswith('.zip'):\n",
    "        caminho_arquivo_zip = os.path.join(diretorio, arquivo_zip)\n",
    "\n",
    "        try:\n",
    "            # Abre o arquivo zip\n",
    "            with zipfile.ZipFile(caminho_arquivo_zip, 'r') as zip_ref:\n",
    "                conteudo_zip = zip_ref.namelist()\n",
    "\n",
    "                # Verifica se o arquivo zip é válido e se contém arquivos txt ou csv\n",
    "                if not zip_ref.testzip() and any(nome_arquivo.lower().endswith(('.txt', '.csv')) for \n",
    "                                                 nome_arquivo in conteudo_zip):\n",
    "                    continue\n",
    "\n",
    "            # Move o arquivo zip inválido para a pasta \"deletar\"\n",
    "            shutil.move(caminho_arquivo_zip, os.path.join(pasta_deletear, arquivo_zip))\n",
    "        except zipfile.BadZipFile:\n",
    "            # Move o arquivo zip inválido para a pasta \"deletar\" se não for um arquivo zip válido\n",
    "            shutil.move(caminho_arquivo_zip, os.path.join(pasta_deletear, arquivo_zip))\n",
    "        except Exception as e:\n",
    "            print(f\"Ocorreu um erro ao processar o arquivo {arquivo_zip}: {str(e)}\")\n",
    "            \n",
    "# Deletando a pasta e todo o seu conteúdo\n",
    "shutil.rmtree('deletar')"
   ]
  },
  {
   "cell_type": "markdown",
   "id": "e37a1f12",
   "metadata": {},
   "source": [
    "### Transferência de arquivos sem tratamento\n",
    "<span style=\"color: gray;font-size:14px\">\n",
    "<p>\n",
    "<ul>\n",
    "<li> Nem todos os arquivos receberão tratamento de dados neste momento\n",
    "<ul>\n",
    "    <li> a razão é porque os arquivos que serão tratados possuem informações mais relevantes para a análise final </li>\n",
    "</ul></ul></span>"
   ]
  },
  {
   "cell_type": "markdown",
   "id": "c13eaa2a",
   "metadata": {},
   "source": [
    "#### Criação da pasta \"pendências\""
   ]
  },
  {
   "cell_type": "code",
   "execution_count": null,
   "id": "0292001f",
   "metadata": {},
   "outputs": [],
   "source": [
    "# Cria a pasta \"pendencias\" se ainda não existir\n",
    "pasta_pendencias = os.path.join(os.getcwd(), 'ARQ_PENDENTES')\n",
    "os.makedirs(pasta_pendencias, exist_ok=True)"
   ]
  },
  {
   "cell_type": "markdown",
   "id": "09dc9a9b",
   "metadata": {},
   "source": [
    "#### Transferência dos arquivos no diretório"
   ]
  },
  {
   "cell_type": "code",
   "execution_count": null,
   "id": "0e74b255",
   "metadata": {},
   "outputs": [],
   "source": [
    "pendencias = []\n",
    "\n",
    "# Arquivos \"pendentes\" associados na variável\n",
    "for prefixo in prefixos:\n",
    "    pendencias = glob.glob(prefixo + '*')\n",
    "\n",
    "    # Move os arquivos para a pasta \"pendencias\"\n",
    "    for arquivo_pendente in pendencias:\n",
    "        shutil.move(arquivo_pendente, pasta_pendencias)"
   ]
  },
  {
   "cell_type": "markdown",
   "id": "c43d2ea9",
   "metadata": {},
   "source": [
    "## Fim"
   ]
  }
 ],
 "metadata": {
  "kernelspec": {
   "display_name": "Python 3 (ipykernel)",
   "language": "python",
   "name": "python3"
  },
  "language_info": {
   "codemirror_mode": {
    "name": "ipython",
    "version": 3
   },
   "file_extension": ".py",
   "mimetype": "text/x-python",
   "name": "python",
   "nbconvert_exporter": "python",
   "pygments_lexer": "ipython3",
   "version": "3.11.5"
  }
 },
 "nbformat": 4,
 "nbformat_minor": 5
}
